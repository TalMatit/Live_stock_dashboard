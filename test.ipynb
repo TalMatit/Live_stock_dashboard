{
 "cells": [
  {
   "cell_type": "code",
   "execution_count": 4,
   "id": "b82c7395",
   "metadata": {},
   "outputs": [],
   "source": [
    "import yfinance as yf"
   ]
  },
  {
   "cell_type": "code",
   "execution_count": null,
   "id": "045c160c",
   "metadata": {},
   "outputs": [],
   "source": []
  },
  {
   "cell_type": "code",
   "execution_count": 7,
   "id": "194abc92",
   "metadata": {},
   "outputs": [
    {
     "data": {
      "text/html": [
       "<div>\n",
       "<style scoped>\n",
       "    .dataframe tbody tr th:only-of-type {\n",
       "        vertical-align: middle;\n",
       "    }\n",
       "\n",
       "    .dataframe tbody tr th {\n",
       "        vertical-align: top;\n",
       "    }\n",
       "\n",
       "    .dataframe thead th {\n",
       "        text-align: right;\n",
       "    }\n",
       "</style>\n",
       "<table border=\"1\" class=\"dataframe\">\n",
       "  <thead>\n",
       "    <tr style=\"text-align: right;\">\n",
       "      <th></th>\n",
       "      <th>Open</th>\n",
       "      <th>High</th>\n",
       "      <th>Low</th>\n",
       "      <th>Close</th>\n",
       "      <th>Volume</th>\n",
       "      <th>Dividends</th>\n",
       "      <th>Stock Splits</th>\n",
       "    </tr>\n",
       "    <tr>\n",
       "      <th>Datetime</th>\n",
       "      <th></th>\n",
       "      <th></th>\n",
       "      <th></th>\n",
       "      <th></th>\n",
       "      <th></th>\n",
       "      <th></th>\n",
       "      <th></th>\n",
       "    </tr>\n",
       "  </thead>\n",
       "  <tbody>\n",
       "    <tr>\n",
       "      <th>2025-05-27 09:30:00-04:00</th>\n",
       "      <td>198.300003</td>\n",
       "      <td>199.169998</td>\n",
       "      <td>197.429993</td>\n",
       "      <td>198.350006</td>\n",
       "      <td>13343197</td>\n",
       "      <td>0.0</td>\n",
       "      <td>0.0</td>\n",
       "    </tr>\n",
       "    <tr>\n",
       "      <th>2025-05-27 10:30:00-04:00</th>\n",
       "      <td>198.360001</td>\n",
       "      <td>199.369995</td>\n",
       "      <td>198.009995</td>\n",
       "      <td>199.365005</td>\n",
       "      <td>6877187</td>\n",
       "      <td>0.0</td>\n",
       "      <td>0.0</td>\n",
       "    </tr>\n",
       "    <tr>\n",
       "      <th>2025-05-27 11:30:00-04:00</th>\n",
       "      <td>199.360001</td>\n",
       "      <td>200.580002</td>\n",
       "      <td>199.000000</td>\n",
       "      <td>199.994995</td>\n",
       "      <td>6493372</td>\n",
       "      <td>0.0</td>\n",
       "      <td>0.0</td>\n",
       "    </tr>\n",
       "    <tr>\n",
       "      <th>2025-05-27 12:30:00-04:00</th>\n",
       "      <td>199.990005</td>\n",
       "      <td>200.649994</td>\n",
       "      <td>199.669998</td>\n",
       "      <td>199.959900</td>\n",
       "      <td>4788957</td>\n",
       "      <td>0.0</td>\n",
       "      <td>0.0</td>\n",
       "    </tr>\n",
       "    <tr>\n",
       "      <th>2025-05-27 13:30:00-04:00</th>\n",
       "      <td>199.955002</td>\n",
       "      <td>200.740005</td>\n",
       "      <td>199.809998</td>\n",
       "      <td>200.369995</td>\n",
       "      <td>4199118</td>\n",
       "      <td>0.0</td>\n",
       "      <td>0.0</td>\n",
       "    </tr>\n",
       "    <tr>\n",
       "      <th>...</th>\n",
       "      <td>...</td>\n",
       "      <td>...</td>\n",
       "      <td>...</td>\n",
       "      <td>...</td>\n",
       "      <td>...</td>\n",
       "      <td>...</td>\n",
       "      <td>...</td>\n",
       "    </tr>\n",
       "    <tr>\n",
       "      <th>2025-06-24 11:30:00-04:00</th>\n",
       "      <td>201.460007</td>\n",
       "      <td>202.565002</td>\n",
       "      <td>201.240005</td>\n",
       "      <td>202.449997</td>\n",
       "      <td>4724128</td>\n",
       "      <td>0.0</td>\n",
       "      <td>0.0</td>\n",
       "    </tr>\n",
       "    <tr>\n",
       "      <th>2025-06-24 12:30:00-04:00</th>\n",
       "      <td>202.451508</td>\n",
       "      <td>203.440002</td>\n",
       "      <td>201.940002</td>\n",
       "      <td>201.960007</td>\n",
       "      <td>6930517</td>\n",
       "      <td>0.0</td>\n",
       "      <td>0.0</td>\n",
       "    </tr>\n",
       "    <tr>\n",
       "      <th>2025-06-24 13:30:00-04:00</th>\n",
       "      <td>201.960007</td>\n",
       "      <td>202.330002</td>\n",
       "      <td>201.309998</td>\n",
       "      <td>201.570007</td>\n",
       "      <td>4599071</td>\n",
       "      <td>0.0</td>\n",
       "      <td>0.0</td>\n",
       "    </tr>\n",
       "    <tr>\n",
       "      <th>2025-06-24 14:30:00-04:00</th>\n",
       "      <td>201.580002</td>\n",
       "      <td>202.014999</td>\n",
       "      <td>201.304993</td>\n",
       "      <td>201.529999</td>\n",
       "      <td>5015277</td>\n",
       "      <td>0.0</td>\n",
       "      <td>0.0</td>\n",
       "    </tr>\n",
       "    <tr>\n",
       "      <th>2025-06-24 15:30:00-04:00</th>\n",
       "      <td>201.535004</td>\n",
       "      <td>201.599899</td>\n",
       "      <td>200.270004</td>\n",
       "      <td>200.289993</td>\n",
       "      <td>7488205</td>\n",
       "      <td>0.0</td>\n",
       "      <td>0.0</td>\n",
       "    </tr>\n",
       "  </tbody>\n",
       "</table>\n",
       "<p>140 rows × 7 columns</p>\n",
       "</div>"
      ],
      "text/plain": [
       "                                 Open        High         Low       Close  \\\n",
       "Datetime                                                                    \n",
       "2025-05-27 09:30:00-04:00  198.300003  199.169998  197.429993  198.350006   \n",
       "2025-05-27 10:30:00-04:00  198.360001  199.369995  198.009995  199.365005   \n",
       "2025-05-27 11:30:00-04:00  199.360001  200.580002  199.000000  199.994995   \n",
       "2025-05-27 12:30:00-04:00  199.990005  200.649994  199.669998  199.959900   \n",
       "2025-05-27 13:30:00-04:00  199.955002  200.740005  199.809998  200.369995   \n",
       "...                               ...         ...         ...         ...   \n",
       "2025-06-24 11:30:00-04:00  201.460007  202.565002  201.240005  202.449997   \n",
       "2025-06-24 12:30:00-04:00  202.451508  203.440002  201.940002  201.960007   \n",
       "2025-06-24 13:30:00-04:00  201.960007  202.330002  201.309998  201.570007   \n",
       "2025-06-24 14:30:00-04:00  201.580002  202.014999  201.304993  201.529999   \n",
       "2025-06-24 15:30:00-04:00  201.535004  201.599899  200.270004  200.289993   \n",
       "\n",
       "                             Volume  Dividends  Stock Splits  \n",
       "Datetime                                                      \n",
       "2025-05-27 09:30:00-04:00  13343197        0.0           0.0  \n",
       "2025-05-27 10:30:00-04:00   6877187        0.0           0.0  \n",
       "2025-05-27 11:30:00-04:00   6493372        0.0           0.0  \n",
       "2025-05-27 12:30:00-04:00   4788957        0.0           0.0  \n",
       "2025-05-27 13:30:00-04:00   4199118        0.0           0.0  \n",
       "...                             ...        ...           ...  \n",
       "2025-06-24 11:30:00-04:00   4724128        0.0           0.0  \n",
       "2025-06-24 12:30:00-04:00   6930517        0.0           0.0  \n",
       "2025-06-24 13:30:00-04:00   4599071        0.0           0.0  \n",
       "2025-06-24 14:30:00-04:00   5015277        0.0           0.0  \n",
       "2025-06-24 15:30:00-04:00   7488205        0.0           0.0  \n",
       "\n",
       "[140 rows x 7 columns]"
      ]
     },
     "execution_count": 7,
     "metadata": {},
     "output_type": "execute_result"
    }
   ],
   "source": [
    "apple = yf.Ticker('aapl')\n",
    "apple_info = apple.history(interval='60m', period='1mo')\n",
    "\n",
    "apple_info"
   ]
  },
  {
   "cell_type": "code",
   "execution_count": 32,
   "id": "6a1406fb",
   "metadata": {},
   "outputs": [
    {
     "data": {
      "text/plain": [
       "Open            1.983000e+02\n",
       "High            1.991700e+02\n",
       "Low             1.974300e+02\n",
       "Close           1.983500e+02\n",
       "Volume          1.334320e+07\n",
       "Dividends       0.000000e+00\n",
       "Stock Splits    0.000000e+00\n",
       "Name: 2025-05-27 09:30:00-04:00, dtype: float64"
      ]
     },
     "execution_count": 32,
     "metadata": {},
     "output_type": "execute_result"
    }
   ],
   "source": [
    "apple_info.loc['2025-05-27 09:30:00-04:00']"
   ]
  },
  {
   "cell_type": "code",
   "execution_count": null,
   "id": "73f8a018",
   "metadata": {},
   "outputs": [
    {
     "data": {
      "text/plain": [
       "'2025-05-27 09:30:00'"
      ]
     },
     "execution_count": 36,
     "metadata": {},
     "output_type": "execute_result"
    }
   ],
   "source": [
    "index0 = apple_info.index[0].replace(tzinfo=None)\n",
    "\n",
    "str(index0)"
   ]
  },
  {
   "cell_type": "code",
   "execution_count": 37,
   "id": "7c04edfe",
   "metadata": {},
   "outputs": [
    {
     "data": {
      "text/plain": [
       "pandas._libs.tslibs.timestamps.Timestamp"
      ]
     },
     "execution_count": 37,
     "metadata": {},
     "output_type": "execute_result"
    }
   ],
   "source": [
    "type(apple_info.index[0])"
   ]
  },
  {
   "cell_type": "code",
   "execution_count": 41,
   "id": "a28bf0f0",
   "metadata": {},
   "outputs": [],
   "source": [
    "import pandas as pd\n",
    "\n",
    "time = pd._libs.tslibs.timestamps.Timestamp('1985-01-01 00:00:00-0500', tz='America/New_York')"
   ]
  },
  {
   "cell_type": "code",
   "execution_count": 48,
   "id": "28e59084",
   "metadata": {},
   "outputs": [
    {
     "name": "stdout",
     "output_type": "stream",
     "text": [
      "['1985-01-01 00:00:00', '2025-06-01 00:00:00']\n"
     ]
    }
   ],
   "source": [
    "Timestamp = (pd._libs.tslibs.timestamps.Timestamp('1985-01-01 00:00:00-0500', tz='America/New_York'), pd._libs.tslibs.timestamps.Timestamp('2025-06-01 00:00:00-0400', tz='America/New_York'))\n",
    "\n",
    "cleanDate = []\n",
    "for date in Timestamp:\n",
    "    cleanDate.append(str(date.replace(tzinfo=None)))\n",
    "\n",
    "print(cleanDate)"
   ]
  }
 ],
 "metadata": {
  "kernelspec": {
   "display_name": ".venv",
   "language": "python",
   "name": "python3"
  },
  "language_info": {
   "codemirror_mode": {
    "name": "ipython",
    "version": 3
   },
   "file_extension": ".py",
   "mimetype": "text/x-python",
   "name": "python",
   "nbconvert_exporter": "python",
   "pygments_lexer": "ipython3",
   "version": "3.13.1"
  }
 },
 "nbformat": 4,
 "nbformat_minor": 5
}
