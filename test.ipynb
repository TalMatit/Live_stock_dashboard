{
 "cells": [
  {
   "cell_type": "code",
   "execution_count": 1,
   "id": "b82c7395",
   "metadata": {},
   "outputs": [],
   "source": [
    "import yfinance as yf"
   ]
  },
  {
   "cell_type": "code",
   "execution_count": 2,
   "id": "194abc92",
   "metadata": {},
   "outputs": [
    {
     "data": {
      "text/html": [
       "<div>\n",
       "<style scoped>\n",
       "    .dataframe tbody tr th:only-of-type {\n",
       "        vertical-align: middle;\n",
       "    }\n",
       "\n",
       "    .dataframe tbody tr th {\n",
       "        vertical-align: top;\n",
       "    }\n",
       "\n",
       "    .dataframe thead th {\n",
       "        text-align: right;\n",
       "    }\n",
       "</style>\n",
       "<table border=\"1\" class=\"dataframe\">\n",
       "  <thead>\n",
       "    <tr style=\"text-align: right;\">\n",
       "      <th></th>\n",
       "      <th>Open</th>\n",
       "      <th>High</th>\n",
       "      <th>Low</th>\n",
       "      <th>Close</th>\n",
       "      <th>Volume</th>\n",
       "      <th>Dividends</th>\n",
       "      <th>Stock Splits</th>\n",
       "    </tr>\n",
       "    <tr>\n",
       "      <th>Date</th>\n",
       "      <th></th>\n",
       "      <th></th>\n",
       "      <th></th>\n",
       "      <th></th>\n",
       "      <th></th>\n",
       "      <th></th>\n",
       "      <th></th>\n",
       "    </tr>\n",
       "  </thead>\n",
       "  <tbody>\n",
       "    <tr>\n",
       "      <th>1985-01-01 00:00:00-05:00</th>\n",
       "      <td>0.099883</td>\n",
       "      <td>0.106742</td>\n",
       "      <td>0.095596</td>\n",
       "      <td>0.099454</td>\n",
       "      <td>6366416000</td>\n",
       "      <td>0.00</td>\n",
       "      <td>0.0</td>\n",
       "    </tr>\n",
       "    <tr>\n",
       "      <th>1985-02-01 00:00:00-05:00</th>\n",
       "      <td>0.099454</td>\n",
       "      <td>0.105456</td>\n",
       "      <td>0.084879</td>\n",
       "      <td>0.084879</td>\n",
       "      <td>4733388800</td>\n",
       "      <td>0.00</td>\n",
       "      <td>0.0</td>\n",
       "    </tr>\n",
       "    <tr>\n",
       "      <th>1985-03-01 00:00:00-05:00</th>\n",
       "      <td>0.084879</td>\n",
       "      <td>0.089165</td>\n",
       "      <td>0.071161</td>\n",
       "      <td>0.075876</td>\n",
       "      <td>4615587200</td>\n",
       "      <td>0.00</td>\n",
       "      <td>0.0</td>\n",
       "    </tr>\n",
       "    <tr>\n",
       "      <th>1985-04-01 00:00:00-05:00</th>\n",
       "      <td>0.075876</td>\n",
       "      <td>0.078878</td>\n",
       "      <td>0.067303</td>\n",
       "      <td>0.072876</td>\n",
       "      <td>2868028800</td>\n",
       "      <td>0.00</td>\n",
       "      <td>0.0</td>\n",
       "    </tr>\n",
       "    <tr>\n",
       "      <th>1985-05-01 00:00:00-04:00</th>\n",
       "      <td>0.072876</td>\n",
       "      <td>0.076305</td>\n",
       "      <td>0.057872</td>\n",
       "      <td>0.059587</td>\n",
       "      <td>4639129600</td>\n",
       "      <td>0.00</td>\n",
       "      <td>0.0</td>\n",
       "    </tr>\n",
       "    <tr>\n",
       "      <th>...</th>\n",
       "      <td>...</td>\n",
       "      <td>...</td>\n",
       "      <td>...</td>\n",
       "      <td>...</td>\n",
       "      <td>...</td>\n",
       "      <td>...</td>\n",
       "      <td>...</td>\n",
       "    </tr>\n",
       "    <tr>\n",
       "      <th>2025-02-01 00:00:00-05:00</th>\n",
       "      <td>229.436537</td>\n",
       "      <td>249.398378</td>\n",
       "      <td>225.156852</td>\n",
       "      <td>241.258011</td>\n",
       "      <td>862272300</td>\n",
       "      <td>0.25</td>\n",
       "      <td>0.0</td>\n",
       "    </tr>\n",
       "    <tr>\n",
       "      <th>2025-03-01 00:00:00-05:00</th>\n",
       "      <td>241.473337</td>\n",
       "      <td>243.710409</td>\n",
       "      <td>208.147044</td>\n",
       "      <td>221.839096</td>\n",
       "      <td>1115239500</td>\n",
       "      <td>0.00</td>\n",
       "      <td>0.0</td>\n",
       "    </tr>\n",
       "    <tr>\n",
       "      <th>2025-04-01 00:00:00-04:00</th>\n",
       "      <td>219.522135</td>\n",
       "      <td>224.895094</td>\n",
       "      <td>168.988409</td>\n",
       "      <td>212.221710</td>\n",
       "      <td>1606488200</td>\n",
       "      <td>0.00</td>\n",
       "      <td>0.0</td>\n",
       "    </tr>\n",
       "    <tr>\n",
       "      <th>2025-05-01 00:00:00-04:00</th>\n",
       "      <td>208.806177</td>\n",
       "      <td>214.278996</td>\n",
       "      <td>192.996907</td>\n",
       "      <td>200.586960</td>\n",
       "      <td>1195728200</td>\n",
       "      <td>0.26</td>\n",
       "      <td>0.0</td>\n",
       "    </tr>\n",
       "    <tr>\n",
       "      <th>2025-06-01 00:00:00-04:00</th>\n",
       "      <td>200.279999</td>\n",
       "      <td>206.240005</td>\n",
       "      <td>195.070007</td>\n",
       "      <td>201.080002</td>\n",
       "      <td>1081610571</td>\n",
       "      <td>0.00</td>\n",
       "      <td>0.0</td>\n",
       "    </tr>\n",
       "  </tbody>\n",
       "</table>\n",
       "<p>486 rows × 7 columns</p>\n",
       "</div>"
      ],
      "text/plain": [
       "                                 Open        High         Low       Close  \\\n",
       "Date                                                                        \n",
       "1985-01-01 00:00:00-05:00    0.099883    0.106742    0.095596    0.099454   \n",
       "1985-02-01 00:00:00-05:00    0.099454    0.105456    0.084879    0.084879   \n",
       "1985-03-01 00:00:00-05:00    0.084879    0.089165    0.071161    0.075876   \n",
       "1985-04-01 00:00:00-05:00    0.075876    0.078878    0.067303    0.072876   \n",
       "1985-05-01 00:00:00-04:00    0.072876    0.076305    0.057872    0.059587   \n",
       "...                               ...         ...         ...         ...   \n",
       "2025-02-01 00:00:00-05:00  229.436537  249.398378  225.156852  241.258011   \n",
       "2025-03-01 00:00:00-05:00  241.473337  243.710409  208.147044  221.839096   \n",
       "2025-04-01 00:00:00-04:00  219.522135  224.895094  168.988409  212.221710   \n",
       "2025-05-01 00:00:00-04:00  208.806177  214.278996  192.996907  200.586960   \n",
       "2025-06-01 00:00:00-04:00  200.279999  206.240005  195.070007  201.080002   \n",
       "\n",
       "                               Volume  Dividends  Stock Splits  \n",
       "Date                                                            \n",
       "1985-01-01 00:00:00-05:00  6366416000       0.00           0.0  \n",
       "1985-02-01 00:00:00-05:00  4733388800       0.00           0.0  \n",
       "1985-03-01 00:00:00-05:00  4615587200       0.00           0.0  \n",
       "1985-04-01 00:00:00-05:00  2868028800       0.00           0.0  \n",
       "1985-05-01 00:00:00-04:00  4639129600       0.00           0.0  \n",
       "...                               ...        ...           ...  \n",
       "2025-02-01 00:00:00-05:00   862272300       0.25           0.0  \n",
       "2025-03-01 00:00:00-05:00  1115239500       0.00           0.0  \n",
       "2025-04-01 00:00:00-04:00  1606488200       0.00           0.0  \n",
       "2025-05-01 00:00:00-04:00  1195728200       0.26           0.0  \n",
       "2025-06-01 00:00:00-04:00  1081610571       0.00           0.0  \n",
       "\n",
       "[486 rows x 7 columns]"
      ]
     },
     "execution_count": 2,
     "metadata": {},
     "output_type": "execute_result"
    }
   ],
   "source": [
    "apple = yf.Ticker('aapl')\n",
    "apple_info = apple.history(interval='1mo', period='max')\n",
    "\n",
    "apple_info"
   ]
  },
  {
   "cell_type": "code",
   "execution_count": 3,
   "id": "76bd3c86",
   "metadata": {},
   "outputs": [
    {
     "data": {
      "text/plain": [
       "DatetimeIndex(['1985-01-01 00:00:00-05:00', '1985-02-01 00:00:00-05:00',\n",
       "               '1985-03-01 00:00:00-05:00', '1985-04-01 00:00:00-05:00',\n",
       "               '1985-05-01 00:00:00-04:00', '1985-06-01 00:00:00-04:00',\n",
       "               '1985-07-01 00:00:00-04:00', '1985-08-01 00:00:00-04:00',\n",
       "               '1985-09-01 00:00:00-04:00', '1985-10-01 00:00:00-04:00',\n",
       "               ...\n",
       "               '2024-09-01 00:00:00-04:00', '2024-10-01 00:00:00-04:00',\n",
       "               '2024-11-01 00:00:00-04:00', '2024-12-01 00:00:00-05:00',\n",
       "               '2025-01-01 00:00:00-05:00', '2025-02-01 00:00:00-05:00',\n",
       "               '2025-03-01 00:00:00-05:00', '2025-04-01 00:00:00-04:00',\n",
       "               '2025-05-01 00:00:00-04:00', '2025-06-01 00:00:00-04:00'],\n",
       "              dtype='datetime64[ns, America/New_York]', name='Date', length=486, freq=None)"
      ]
     },
     "execution_count": 3,
     "metadata": {},
     "output_type": "execute_result"
    }
   ],
   "source": [
    "apple_info.index"
   ]
  },
  {
   "cell_type": "code",
   "execution_count": 4,
   "id": "73f8a018",
   "metadata": {},
   "outputs": [
    {
     "data": {
      "text/plain": [
       "'1985-01-01 00:00:00'"
      ]
     },
     "execution_count": 4,
     "metadata": {},
     "output_type": "execute_result"
    }
   ],
   "source": [
    "index0 = apple_info.index[0].replace(tzinfo=None)\n",
    "\n",
    "str(index0)"
   ]
  },
  {
   "cell_type": "code",
   "execution_count": 5,
   "id": "7c04edfe",
   "metadata": {},
   "outputs": [
    {
     "data": {
      "text/plain": [
       "pandas._libs.tslibs.timestamps.Timestamp"
      ]
     },
     "execution_count": 5,
     "metadata": {},
     "output_type": "execute_result"
    }
   ],
   "source": [
    "type(apple_info.index[0])"
   ]
  },
  {
   "cell_type": "code",
   "execution_count": 6,
   "id": "a28bf0f0",
   "metadata": {},
   "outputs": [],
   "source": [
    "import pandas as pd\n",
    "\n",
    "time = pd._libs.tslibs.timestamps.Timestamp('1985-01-01 00:00:00-0500', tz='America/New_York')"
   ]
  },
  {
   "cell_type": "code",
   "execution_count": 7,
   "id": "28e59084",
   "metadata": {},
   "outputs": [
    {
     "name": "stdout",
     "output_type": "stream",
     "text": [
      "['1985-01-01 00:00:00', '2025-06-01 00:00:00']\n"
     ]
    }
   ],
   "source": [
    "Timestamp = (pd._libs.tslibs.timestamps.Timestamp('1985-01-01 00:00:00-0500', tz='America/New_York'), pd._libs.tslibs.timestamps.Timestamp('2025-06-01 00:00:00-0400', tz='America/New_York'))\n",
    "\n",
    "cleanDate = []\n",
    "for date in Timestamp:\n",
    "    cleanDate.append(str(date.replace(tzinfo=None)))\n",
    "\n",
    "print(cleanDate)"
   ]
  },
  {
   "cell_type": "code",
   "execution_count": 8,
   "id": "a1441ae7",
   "metadata": {},
   "outputs": [
    {
     "name": "stdout",
     "output_type": "stream",
     "text": [
      "1985-02-01 00:00:00-05:00\n",
      "Open            9.945393e-02\n",
      "High            1.054559e-01\n",
      "Low             8.487892e-02\n",
      "Close           8.487892e-02\n",
      "Volume          4.733389e+09\n",
      "Dividends       0.000000e+00\n",
      "Stock Splits    0.000000e+00\n",
      "Name: 1985-02-01 00:00:00-05:00, dtype: float64\n"
     ]
    }
   ],
   "source": [
    "index_1 = apple_info.index[1]\n",
    "print(index_1)\n",
    "print(apple_info.loc[index_1])"
   ]
  },
  {
   "cell_type": "code",
   "execution_count": 12,
   "id": "16d942a5",
   "metadata": {},
   "outputs": [
    {
     "data": {
      "text/plain": [
       "DatetimeIndex(['2011-11-01 00:00:00-04:00', '2011-12-01 00:00:00-05:00',\n",
       "               '2012-01-01 00:00:00-05:00', '2012-02-01 00:00:00-05:00',\n",
       "               '2012-03-01 00:00:00-05:00', '2012-04-01 00:00:00-04:00',\n",
       "               '2012-05-01 00:00:00-04:00', '2012-06-01 00:00:00-04:00',\n",
       "               '2012-07-01 00:00:00-04:00', '2012-08-01 00:00:00-04:00',\n",
       "               '2012-09-01 00:00:00-04:00', '2012-10-01 00:00:00-04:00'],\n",
       "              dtype='datetime64[ns, America/New_York]', name='Date', freq=None)"
      ]
     },
     "execution_count": 12,
     "metadata": {},
     "output_type": "execute_result"
    }
   ],
   "source": [
    "requested_period = ('2011-11-01 00:00:00', '2012-10-01 00:00:00')\n",
    "\n",
    "apple_info.loc['2011-11-01 00:00:00':'2012-10-01 00:00:00'].index"
   ]
  },
  {
   "cell_type": "code",
   "execution_count": 14,
   "id": "cd66c11a",
   "metadata": {},
   "outputs": [
    {
     "data": {
      "application/vnd.plotly.v1+json": {
       "config": {
        "plotlyServerURL": "https://plot.ly"
       },
       "data": [
        {
         "close": {
          "bdata": "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",
          "dtype": "f8"
         },
         "high": {
          "bdata": "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",
          "dtype": "f8"
         },
         "low": {
          "bdata": "LlVwivt4uD8AAAAAoLq1P+H4zSifN7I/BqzVTco6sT9JCCSAa6GtP9DE07Qu5qk/AAAAwPHfqz/SiGge0HWpP15zl9wu5qk/cCVc4IxWqj+vYDEuAFqwPyw1hu6D5rA/6fd911sYsz8bWWaoPRW0P61Gx6tBSrU/3XmGDsgLtz8D1uw4ax66P86yPYhyiLw/ydohBZpWuj8SAe6QEOO6P4LgyGfNw7s/LImW/EJQvD8qmw/Bgr29PwbeS8G4LME/hnb51BadwT/N1X/HbqnGP4XZZaNuU8s/yaLZLXphyz9Onsw1S9PPP8swwjTOtNA///p9N/sL0D8hdMYO5pXRPyTHoq2bWdU/lPNwAElSyD945WQ6QdrKP6qqqlrZP8o/AQsDpOff0D//XdwGcKfQPyA3ZzcAIdE/ucfiw7YE0T+RaMPKZoXQPyjEFcAlRdI/uoeJxoa20j+d2M+yXWLRP3sC2yBewNA/fkKjAPWj0D/ys62uhIHPPyFLfoMzr9A/AX7h9tUg0D+BmY0u3F3PP+5p2HFB5M0/Lr1b+ek5zj/xVv/kMS3RP+vwVqRMqdE/HHE0UPzg0D/nx3Wdq4zRPwgnokeZRdM/hmRcEjgM0z9pOYTDNwzTPzYmr04jNM0/nNEnrdvdzD+5c98rnPrMP05velNL+c0/6oJQjiov0T9H/SWfR3fRPxBP6RwM89A/ADSx/1IU0j/qs+e+bkjOP3Zt9sQotcg/jAH8I878xT/oeZ4ncPnKP7PXIh5+1NA/RB3Sq7ga0z+HvNO2ZufYP8NIizdh+9k/jeIEKaXX2D+zzyVtZA7UP98A8BTSZNI/Kw3vHE8U0z8NfWqzQujUP16j2F5LTNU/JCJYyUpM1T9Ynn4OisHVP4HoXIt5RNY/ydvNozh72T+xcDEv0FncPzZUeeFekNo/XEa+QQdh2D9ElV54PcvaP8hEJGQIqtM/1gVvN6kM1D+S2/furSDTP0uHZj8IONQ/ABy9LNct0z9LBP087MzXPzrUFoqSPdk/D5MyTZ+D2j+fLSIn49nXP1tTzZmvUtc/7tKKqtGy1T+oQTCdy6vXP0pHFDsd6NE/qub/C3q4xz9A8SR/xRHIP2KTefw5fcU/mW/2DQ+OxD/HcRz3uMvLPyjzA2Il2cg/9e6BSz31yj8Gy8YLZD3OP5XXUN6JpM0/GuYYxnNoyT/0sSMc0NHKP2ysrrO7Q8c/TMyoWCP5xz+8kqW4p1nOPzEGL9/wo88/yDpXD5rPzj/f/BONBD7RP3Eg0jCDhdA/gPC6Vd0B0j+gjgbdExHSP47fIiFXJtA/kUygxNQH0D+iDnKEwuDRP9nvo4AB19M/6VVG5JWO1D+Tztu+5QTUP0vJB0GCqNA/XjsXIHIe0D/y6+odiwTRP/AFf48yas4/qcLHAuPUyT9hb0RVETXKP89U76avHsY/FwSMOlrXxj9iOS79x5nGPwCcxsq+38I/MpaIgITGvj9UGORivPTDP/dxZ0CkecM/ML1sc38oxT/fY3KrdT3GPyyd+iy89MM/yIVzobS8vz/1pvI2sBe9PzJ3lRn5iL4/7q+ts+0bwD8ZIlR7KH+/P5j1uWq17bo/AFy8hi6GuD91trqs9OPAP65isAlIMsQ/0rgV//eIvj8N01BnszrAP8Kc7UQvhrg/+ZUd0IT3uT+cDUB+y7XAP79ndyUmzMQ/YS5fFyi+xz/hvQYQ/KTIP3/U+z78pMg/Fsb05s1oyz8K5Z+9VNDNP4XSIKYBdM0/MJTLys1oyz8bsSOI+IjOP4km8dcyas4/qzz+uHbS0T9yDdvUBZfQP3TnEB2Fxs4/U+Ex0ekb0D9QJ7AIe6/TP8zia275OdQ/zOUW9qu61T+HfkqdsBDZP5/kozGsnts/tFDa6pCc3D+eQFWFqJbiPyQ7eR385OU/2MPFCSjM5D9T9t8ccVLnP9MvAB/QaOs/A7jSsSg36T+ACA1Sy6fjP7yQS+UoU+M/uVrZEGiK5j9C5cxLQ0flP6aIvZxsZ9g/2zlXc5HU0D/5MUU9EATPP8QxeKERNco/3ZVGkybFyz93I1pUrU/RP+ONwkmih9A/dlJyY1EI0j+k4t60vI/SP0LDEOUMnNI/NB6u+Lwq0T9sdAyuZZ7QP+znnsCNPMw/WFd/NWWGzD9NQCfyBZfQPwmb03M8UtM/KY0CbqB50z9388pWhCPUP1VrQPYr/NQ/BopiT68e1j+z1PnZ80rVPwSGHtWsvM4/+TYaOz2Lyj90USBT7d7KPyaKSt9UBss/M2BUVY6yyT9sQvXKDN/MP+jUqxlegco/tE6uZA0Vyj91efO7PIvKP85h26NlAcs/6fmsfG53yD+i+KO/te3KP3deCES8/M8/ChSELj3N0T9eh9a+SK3SP/RUbn8AYdM/HkuWhNxq0z9J4+x3JBfTP36D4b5sg9I/iqMR9pde1D8FrWp9n97UP5hVLi9rstY/bUINkr6D2D8WX9t6MobYP0+rgO6wjdo/hST9CuWj2z+BhE4jQZDcPwggawvbcOA/Yq+vKska4j8LMcPiOQbpP6YebF0Un+0/cb7ihC0a7j9hVlTIkmnyP+Zo/3MMrPI/0aLh3XdZ8D/utY2Uz9fvP8cPxS+UFPE/QEX5Kl5z8T8bkoMgvjT0PyZ4+X/EKfY/XrPU7uME9z+FKf/3zlj7P2fZZNdSiwBAfh9ZoB0KAUD66KJ3HT/+P10G2MVKu/s/RJrt2V9b/T8MQmsU2jj8P0oqaZQUpfo/HZ6iQ8we+D+pf4NhuBf+P59qpgZjTgBA2z/O7pl0AUAMa+WNDLQCQOsf06REdQJA6MgVYQaxA0DFNDLMHOwDQLf/pN3kIgRA0qt1gveKBUD1g4DK2LEHQFtoAuX7vgtA/kn29AevDECCMWleUdYKQHODCAegQQ9AA5iqu35iEkAe+34HthsSQPkPP9HzRhVAjGw13QlUDkCENoUZcsELQOH8MzoEXwxA3b/rCqtDEUBugcJaYq0UQGPfsvDLuxNA05bpNIidEUAqJ8wi4WESQIROkOJpLwhAJbZQFtVvBEC5AHMOJQcDQMXRankiVARAHT84bknNAkBHipgvxswEQLkzwNp9ywNAcsQdJoj6CEBNqGz587MMQAdmuNbk8g9AUKIhaNcoEEAnOy4qOioTQPj31JyQuhNAn3fCHiG5FUBgPrcBAk8WQJ2PUQu4rhZAk4dfmwnfFkBo1ycqgPEWQAb3WDLTshhA62wHcv76G0DU4EM5BPQXQNIbk2TSHR1A66ML987NHED+HQmReVEcQGuM9Hxjmx1A0UKcJ0GyIEAg5LRr2uUhQLVf8dpy7SJAC9PbCo6GI0DmTSzYv0wkQOvq0ZtnnCNA6vJoSYo+I0B0IJQdCM0jQIImhBrlqSJAripeapUWJECR/MRbLjglQADH6QJNByZARMET1PNKJUCGDIC1rNYlQO/xrwalsyZAftecVpaVKEA5Q1nTuUkrQIvLxn51By9Aen/T/BiuMEA+Ku6FK2MvQNE13PsWfDBAQINhpoEhMUAw8dPtPgoyQEtJc3PZzDNA+ON4Xhq9MUBVJ/Lgw4cuQB3XtqtKZS5AHptk0xxhKkAWxcxMaIoqQOn/B7ChjilA2g8fD0l9J0B36uv0EY0pQM2RUR5Z4CdAgx3bYXeiKEAvwNGgcdQrQLCJWmPsoytAoh4BQlqPLUBxhKUf4qovQFIKWQ5WvzBAEKaLZIuuLkCgVu04DQovQG8aZHQAWTBATR53Ijb6L0B05/KRcCUyQKCXq7zVkjNArILcuARgNEC9DSckBog0QJfmVEofRDVA2sd4TsINNUCNL1V43NM3QH3WmxNHmzdApOH+NJM+N0A6JpZbxMk5QCS+ubC1IDtAKHI/caR0O0BeyI7lfIM7QK8i26wf4TtANAuz9omzOkA9m8Mo3po0QGUaYkJnJzhA4bLovIUkOEAxryO3DPk4QF+rWDD0rjdAhiYds/vfNEAhVyUkjes0QLcF24SAITZA5soPdfUDNUCHxM26KlM0QGntFpOe6TRAbE3l4oqRNUDX8ddO/cQ3QJoc4Bd6jzdALZ3+JgnNOUCISlfHqOo3QMJyW/SoADlAfhN5ZpaBOkB01Cv+6FU9QJF5T1axyj9A2K07v7g+QEC+Ccf9ubtAQEqFy4ywj0BAoZHpjvOVQECDI+5f10hBQPCjbOWqcEFAWqc/wnHTQUC8qlsZLFNDQIE9ZNhniENA0zM9qIhTQ0AHUsruKKFBQNVqV/DxbkNAf7nHPPLsQkCwanf15XhDQBeS7fM5YEVA+lZ2tayxRUAnSdj8PVZHQIDhYoLQjUlAchZ8jPh1SECpR0u5STVEQCEbI0KgdUFAVoZGn6zpQEBAuZueUMNDQCZ1n91URkRAJy148XaIRkAgY+Jbce5EQBBoRV39cURAHVCWuf7SR0DIFNr8yB9HQNViq21xnUhA6RyQCBXuSUBsrAD9HQhOQMwXfj3d+05ABbhy5iCyUUBWWo96Vv5OQOi4e/2iw0lA+wKwxiq1TECYWn6L2lFRQKwzgKqZRVNAZbcIKO2pVUC3aMPnQDhaQJV7r16qGVlAFgb4Eps5WkAfgzLOrCBaQOtb2lx6RF1AjmAckyvSXkAT1yo3Vt9cQJpUDPITYlxAv6b9SrzqXUCElukju9tdQEi2bivUH15ApHfnDG+bYEBPSG1fIq1hQFXGosWcTmFA2+L/RYbwYEAybBzxXxFiQMoEm+dCXGNAHZ5z++T6YkDI/4WOF6ZiQCCT1fhrcGJA9DYHengWY0AHldpWY0pgQL7zHxkowF9AXIRVD5OwYECMUC2ZFFVjQAc1QCFPAGFAQIlN9tKNYEC0LymoI45gQDsAtoCqEF9AjDyxfEGlXkBsbm/caHBhQFonJd/ayGFAl4S2e0i/Y0Aumudsm05kQIPHO4Wi5WVASy24xgEYZ0CaY6/jK0hlQP1Ox/bWxWRAVBZybfmHZEB3N3pGJxVlQLcC96rKQmdA3UF2qoZbZkBVsPrUTD5mQIcOfipQ72RAYxG7WwpjZEBuNqe3CANlQCbfOHIt6GdAiE0Cb99dakB6F48AzmJoQELE6D52pWpAikJkTMCRa0CfDfLZF15rQApv7Gfbkm1AzCMzQ0Rba0AxN/HuBCVsQDyjh5a0BGpAOiDcDKEfZUAmD+2p5h9oQAAAAIA9YmhA",
          "dtype": "f8"
         },
         "open": {
          "bdata": "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",
          "dtype": "f8"
         },
         "type": "candlestick",
         "x": [
          "2011-11-01T00:00:00-04:00",
          "2011-12-01T00:00:00-05:00",
          "2012-01-01T00:00:00-05:00",
          "2012-02-01T00:00:00-05:00",
          "2012-03-01T00:00:00-05:00",
          "2012-04-01T00:00:00-04:00",
          "2012-05-01T00:00:00-04:00",
          "2012-06-01T00:00:00-04:00",
          "2012-07-01T00:00:00-04:00",
          "2012-08-01T00:00:00-04:00",
          "2012-09-01T00:00:00-04:00",
          "2012-10-01T00:00:00-04:00"
         ]
        }
       ],
       "layout": {
        "template": {
         "data": {
          "bar": [
           {
            "error_x": {
             "color": "#2a3f5f"
            },
            "error_y": {
             "color": "#2a3f5f"
            },
            "marker": {
             "line": {
              "color": "#E5ECF6",
              "width": 0.5
             },
             "pattern": {
              "fillmode": "overlay",
              "size": 10,
              "solidity": 0.2
             }
            },
            "type": "bar"
           }
          ],
          "barpolar": [
           {
            "marker": {
             "line": {
              "color": "#E5ECF6",
              "width": 0.5
             },
             "pattern": {
              "fillmode": "overlay",
              "size": 10,
              "solidity": 0.2
             }
            },
            "type": "barpolar"
           }
          ],
          "carpet": [
           {
            "aaxis": {
             "endlinecolor": "#2a3f5f",
             "gridcolor": "white",
             "linecolor": "white",
             "minorgridcolor": "white",
             "startlinecolor": "#2a3f5f"
            },
            "baxis": {
             "endlinecolor": "#2a3f5f",
             "gridcolor": "white",
             "linecolor": "white",
             "minorgridcolor": "white",
             "startlinecolor": "#2a3f5f"
            },
            "type": "carpet"
           }
          ],
          "choropleth": [
           {
            "colorbar": {
             "outlinewidth": 0,
             "ticks": ""
            },
            "type": "choropleth"
           }
          ],
          "contour": [
           {
            "colorbar": {
             "outlinewidth": 0,
             "ticks": ""
            },
            "colorscale": [
             [
              0,
              "#0d0887"
             ],
             [
              0.1111111111111111,
              "#46039f"
             ],
             [
              0.2222222222222222,
              "#7201a8"
             ],
             [
              0.3333333333333333,
              "#9c179e"
             ],
             [
              0.4444444444444444,
              "#bd3786"
             ],
             [
              0.5555555555555556,
              "#d8576b"
             ],
             [
              0.6666666666666666,
              "#ed7953"
             ],
             [
              0.7777777777777778,
              "#fb9f3a"
             ],
             [
              0.8888888888888888,
              "#fdca26"
             ],
             [
              1,
              "#f0f921"
             ]
            ],
            "type": "contour"
           }
          ],
          "contourcarpet": [
           {
            "colorbar": {
             "outlinewidth": 0,
             "ticks": ""
            },
            "type": "contourcarpet"
           }
          ],
          "heatmap": [
           {
            "colorbar": {
             "outlinewidth": 0,
             "ticks": ""
            },
            "colorscale": [
             [
              0,
              "#0d0887"
             ],
             [
              0.1111111111111111,
              "#46039f"
             ],
             [
              0.2222222222222222,
              "#7201a8"
             ],
             [
              0.3333333333333333,
              "#9c179e"
             ],
             [
              0.4444444444444444,
              "#bd3786"
             ],
             [
              0.5555555555555556,
              "#d8576b"
             ],
             [
              0.6666666666666666,
              "#ed7953"
             ],
             [
              0.7777777777777778,
              "#fb9f3a"
             ],
             [
              0.8888888888888888,
              "#fdca26"
             ],
             [
              1,
              "#f0f921"
             ]
            ],
            "type": "heatmap"
           }
          ],
          "histogram": [
           {
            "marker": {
             "pattern": {
              "fillmode": "overlay",
              "size": 10,
              "solidity": 0.2
             }
            },
            "type": "histogram"
           }
          ],
          "histogram2d": [
           {
            "colorbar": {
             "outlinewidth": 0,
             "ticks": ""
            },
            "colorscale": [
             [
              0,
              "#0d0887"
             ],
             [
              0.1111111111111111,
              "#46039f"
             ],
             [
              0.2222222222222222,
              "#7201a8"
             ],
             [
              0.3333333333333333,
              "#9c179e"
             ],
             [
              0.4444444444444444,
              "#bd3786"
             ],
             [
              0.5555555555555556,
              "#d8576b"
             ],
             [
              0.6666666666666666,
              "#ed7953"
             ],
             [
              0.7777777777777778,
              "#fb9f3a"
             ],
             [
              0.8888888888888888,
              "#fdca26"
             ],
             [
              1,
              "#f0f921"
             ]
            ],
            "type": "histogram2d"
           }
          ],
          "histogram2dcontour": [
           {
            "colorbar": {
             "outlinewidth": 0,
             "ticks": ""
            },
            "colorscale": [
             [
              0,
              "#0d0887"
             ],
             [
              0.1111111111111111,
              "#46039f"
             ],
             [
              0.2222222222222222,
              "#7201a8"
             ],
             [
              0.3333333333333333,
              "#9c179e"
             ],
             [
              0.4444444444444444,
              "#bd3786"
             ],
             [
              0.5555555555555556,
              "#d8576b"
             ],
             [
              0.6666666666666666,
              "#ed7953"
             ],
             [
              0.7777777777777778,
              "#fb9f3a"
             ],
             [
              0.8888888888888888,
              "#fdca26"
             ],
             [
              1,
              "#f0f921"
             ]
            ],
            "type": "histogram2dcontour"
           }
          ],
          "mesh3d": [
           {
            "colorbar": {
             "outlinewidth": 0,
             "ticks": ""
            },
            "type": "mesh3d"
           }
          ],
          "parcoords": [
           {
            "line": {
             "colorbar": {
              "outlinewidth": 0,
              "ticks": ""
             }
            },
            "type": "parcoords"
           }
          ],
          "pie": [
           {
            "automargin": true,
            "type": "pie"
           }
          ],
          "scatter": [
           {
            "fillpattern": {
             "fillmode": "overlay",
             "size": 10,
             "solidity": 0.2
            },
            "type": "scatter"
           }
          ],
          "scatter3d": [
           {
            "line": {
             "colorbar": {
              "outlinewidth": 0,
              "ticks": ""
             }
            },
            "marker": {
             "colorbar": {
              "outlinewidth": 0,
              "ticks": ""
             }
            },
            "type": "scatter3d"
           }
          ],
          "scattercarpet": [
           {
            "marker": {
             "colorbar": {
              "outlinewidth": 0,
              "ticks": ""
             }
            },
            "type": "scattercarpet"
           }
          ],
          "scattergeo": [
           {
            "marker": {
             "colorbar": {
              "outlinewidth": 0,
              "ticks": ""
             }
            },
            "type": "scattergeo"
           }
          ],
          "scattergl": [
           {
            "marker": {
             "colorbar": {
              "outlinewidth": 0,
              "ticks": ""
             }
            },
            "type": "scattergl"
           }
          ],
          "scattermap": [
           {
            "marker": {
             "colorbar": {
              "outlinewidth": 0,
              "ticks": ""
             }
            },
            "type": "scattermap"
           }
          ],
          "scattermapbox": [
           {
            "marker": {
             "colorbar": {
              "outlinewidth": 0,
              "ticks": ""
             }
            },
            "type": "scattermapbox"
           }
          ],
          "scatterpolar": [
           {
            "marker": {
             "colorbar": {
              "outlinewidth": 0,
              "ticks": ""
             }
            },
            "type": "scatterpolar"
           }
          ],
          "scatterpolargl": [
           {
            "marker": {
             "colorbar": {
              "outlinewidth": 0,
              "ticks": ""
             }
            },
            "type": "scatterpolargl"
           }
          ],
          "scatterternary": [
           {
            "marker": {
             "colorbar": {
              "outlinewidth": 0,
              "ticks": ""
             }
            },
            "type": "scatterternary"
           }
          ],
          "surface": [
           {
            "colorbar": {
             "outlinewidth": 0,
             "ticks": ""
            },
            "colorscale": [
             [
              0,
              "#0d0887"
             ],
             [
              0.1111111111111111,
              "#46039f"
             ],
             [
              0.2222222222222222,
              "#7201a8"
             ],
             [
              0.3333333333333333,
              "#9c179e"
             ],
             [
              0.4444444444444444,
              "#bd3786"
             ],
             [
              0.5555555555555556,
              "#d8576b"
             ],
             [
              0.6666666666666666,
              "#ed7953"
             ],
             [
              0.7777777777777778,
              "#fb9f3a"
             ],
             [
              0.8888888888888888,
              "#fdca26"
             ],
             [
              1,
              "#f0f921"
             ]
            ],
            "type": "surface"
           }
          ],
          "table": [
           {
            "cells": {
             "fill": {
              "color": "#EBF0F8"
             },
             "line": {
              "color": "white"
             }
            },
            "header": {
             "fill": {
              "color": "#C8D4E3"
             },
             "line": {
              "color": "white"
             }
            },
            "type": "table"
           }
          ]
         },
         "layout": {
          "annotationdefaults": {
           "arrowcolor": "#2a3f5f",
           "arrowhead": 0,
           "arrowwidth": 1
          },
          "autotypenumbers": "strict",
          "coloraxis": {
           "colorbar": {
            "outlinewidth": 0,
            "ticks": ""
           }
          },
          "colorscale": {
           "diverging": [
            [
             0,
             "#8e0152"
            ],
            [
             0.1,
             "#c51b7d"
            ],
            [
             0.2,
             "#de77ae"
            ],
            [
             0.3,
             "#f1b6da"
            ],
            [
             0.4,
             "#fde0ef"
            ],
            [
             0.5,
             "#f7f7f7"
            ],
            [
             0.6,
             "#e6f5d0"
            ],
            [
             0.7,
             "#b8e186"
            ],
            [
             0.8,
             "#7fbc41"
            ],
            [
             0.9,
             "#4d9221"
            ],
            [
             1,
             "#276419"
            ]
           ],
           "sequential": [
            [
             0,
             "#0d0887"
            ],
            [
             0.1111111111111111,
             "#46039f"
            ],
            [
             0.2222222222222222,
             "#7201a8"
            ],
            [
             0.3333333333333333,
             "#9c179e"
            ],
            [
             0.4444444444444444,
             "#bd3786"
            ],
            [
             0.5555555555555556,
             "#d8576b"
            ],
            [
             0.6666666666666666,
             "#ed7953"
            ],
            [
             0.7777777777777778,
             "#fb9f3a"
            ],
            [
             0.8888888888888888,
             "#fdca26"
            ],
            [
             1,
             "#f0f921"
            ]
           ],
           "sequentialminus": [
            [
             0,
             "#0d0887"
            ],
            [
             0.1111111111111111,
             "#46039f"
            ],
            [
             0.2222222222222222,
             "#7201a8"
            ],
            [
             0.3333333333333333,
             "#9c179e"
            ],
            [
             0.4444444444444444,
             "#bd3786"
            ],
            [
             0.5555555555555556,
             "#d8576b"
            ],
            [
             0.6666666666666666,
             "#ed7953"
            ],
            [
             0.7777777777777778,
             "#fb9f3a"
            ],
            [
             0.8888888888888888,
             "#fdca26"
            ],
            [
             1,
             "#f0f921"
            ]
           ]
          },
          "colorway": [
           "#636efa",
           "#EF553B",
           "#00cc96",
           "#ab63fa",
           "#FFA15A",
           "#19d3f3",
           "#FF6692",
           "#B6E880",
           "#FF97FF",
           "#FECB52"
          ],
          "font": {
           "color": "#2a3f5f"
          },
          "geo": {
           "bgcolor": "white",
           "lakecolor": "white",
           "landcolor": "#E5ECF6",
           "showlakes": true,
           "showland": true,
           "subunitcolor": "white"
          },
          "hoverlabel": {
           "align": "left"
          },
          "hovermode": "closest",
          "mapbox": {
           "style": "light"
          },
          "paper_bgcolor": "white",
          "plot_bgcolor": "#E5ECF6",
          "polar": {
           "angularaxis": {
            "gridcolor": "white",
            "linecolor": "white",
            "ticks": ""
           },
           "bgcolor": "#E5ECF6",
           "radialaxis": {
            "gridcolor": "white",
            "linecolor": "white",
            "ticks": ""
           }
          },
          "scene": {
           "xaxis": {
            "backgroundcolor": "#E5ECF6",
            "gridcolor": "white",
            "gridwidth": 2,
            "linecolor": "white",
            "showbackground": true,
            "ticks": "",
            "zerolinecolor": "white"
           },
           "yaxis": {
            "backgroundcolor": "#E5ECF6",
            "gridcolor": "white",
            "gridwidth": 2,
            "linecolor": "white",
            "showbackground": true,
            "ticks": "",
            "zerolinecolor": "white"
           },
           "zaxis": {
            "backgroundcolor": "#E5ECF6",
            "gridcolor": "white",
            "gridwidth": 2,
            "linecolor": "white",
            "showbackground": true,
            "ticks": "",
            "zerolinecolor": "white"
           }
          },
          "shapedefaults": {
           "line": {
            "color": "#2a3f5f"
           }
          },
          "ternary": {
           "aaxis": {
            "gridcolor": "white",
            "linecolor": "white",
            "ticks": ""
           },
           "baxis": {
            "gridcolor": "white",
            "linecolor": "white",
            "ticks": ""
           },
           "bgcolor": "#E5ECF6",
           "caxis": {
            "gridcolor": "white",
            "linecolor": "white",
            "ticks": ""
           }
          },
          "title": {
           "x": 0.05
          },
          "xaxis": {
           "automargin": true,
           "gridcolor": "white",
           "linecolor": "white",
           "ticks": "",
           "title": {
            "standoff": 15
           },
           "zerolinecolor": "white",
           "zerolinewidth": 2
          },
          "yaxis": {
           "automargin": true,
           "gridcolor": "white",
           "linecolor": "white",
           "ticks": "",
           "title": {
            "standoff": 15
           },
           "zerolinecolor": "white",
           "zerolinewidth": 2
          }
         }
        }
       }
      }
     },
     "metadata": {},
     "output_type": "display_data"
    }
   ],
   "source": [
    "\n",
    "import plotly.graph_objects as go\n",
    "apple_info.loc['2011-11-01 00:00:00':'2012-10-01 00:00:00'].index\n",
    "\n",
    "fig = go.Figure(data=[go.Candlestick(x=apple_info.loc[requested_period[0]:requested_period[1]].index,\n",
    "                                    open=apple_info['Open'],\n",
    "                                    close=apple_info['Close'],\n",
    "                                    high=apple_info['High'],\n",
    "                                    low=apple_info['Low'])])\n",
    "\n",
    "fig.show()\n"
   ]
  },
  {
   "cell_type": "code",
   "execution_count": null,
   "id": "a9fc5808",
   "metadata": {},
   "outputs": [],
   "source": []
  }
 ],
 "metadata": {
  "kernelspec": {
   "display_name": ".venv",
   "language": "python",
   "name": "python3"
  },
  "language_info": {
   "codemirror_mode": {
    "name": "ipython",
    "version": 3
   },
   "file_extension": ".py",
   "mimetype": "text/x-python",
   "name": "python",
   "nbconvert_exporter": "python",
   "pygments_lexer": "ipython3",
   "version": "3.13.1"
  }
 },
 "nbformat": 4,
 "nbformat_minor": 5
}
